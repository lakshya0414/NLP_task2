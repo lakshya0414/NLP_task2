{
 "cells": [
  {
   "cell_type": "code",
   "execution_count": 6,
   "id": "f02f9afa",
   "metadata": {},
   "outputs": [],
   "source": [
    "def gender_features(word):\n",
    "    return{'last_letter': word[-1]}"
   ]
  },
  {
   "cell_type": "code",
   "execution_count": 7,
   "id": "575daebd",
   "metadata": {},
   "outputs": [
    {
     "data": {
      "text/plain": [
       "{'last_letter': 'a'}"
      ]
     },
     "execution_count": 7,
     "metadata": {},
     "output_type": "execute_result"
    }
   ],
   "source": [
    "gender_features('lakshya')"
   ]
  },
  {
   "cell_type": "code",
   "execution_count": 9,
   "id": "e4a161a8",
   "metadata": {},
   "outputs": [],
   "source": [
    "from nltk.corpus import names"
   ]
  },
  {
   "cell_type": "code",
   "execution_count": 13,
   "id": "98840a1d",
   "metadata": {},
   "outputs": [],
   "source": [
    "labeled_names = [(name, 'male') for name in names.words('male.txt')] + [(name,'female') for name in names.words('female.txt')]"
   ]
  },
  {
   "cell_type": "code",
   "execution_count": 14,
   "id": "de39e0b2",
   "metadata": {},
   "outputs": [],
   "source": [
    "import random"
   ]
  },
  {
   "cell_type": "code",
   "execution_count": 15,
   "id": "3be5d5cb",
   "metadata": {},
   "outputs": [],
   "source": [
    "random.shuffle(labeled_names)"
   ]
  },
  {
   "cell_type": "code",
   "execution_count": 17,
   "id": "af61577e",
   "metadata": {},
   "outputs": [],
   "source": [
    "feature_sets = [(gender_features(n), gender)\n",
    "                    for (n, gender) in labeled_names]\n",
    "train_set, test_set = feature_sets[500:], feature_sets[:500]"
   ]
  },
  {
   "cell_type": "code",
   "execution_count": 18,
   "id": "2ad1949b",
   "metadata": {},
   "outputs": [],
   "source": [
    "import nltk"
   ]
  },
  {
   "cell_type": "code",
   "execution_count": 19,
   "id": "5c4ea5b2",
   "metadata": {},
   "outputs": [],
   "source": [
    "classifier = nltk.NaiveBayesClassifier.train(train_set)"
   ]
  },
  {
   "cell_type": "code",
   "execution_count": 23,
   "id": "10dbb656",
   "metadata": {},
   "outputs": [
    {
     "name": "stdout",
     "output_type": "stream",
     "text": [
      "Rahul is most probably a male.\n",
      "Archisa is most probably a female.\n"
     ]
    }
   ],
   "source": [
    "g1 = classifier.classify(gender_features('Rahul'))\n",
    "g2 = classifier.classify(gender_features('Archisa'))\n",
    "print(\"{} is most probably a {}.\".format('Rahul',g1))\n",
    "print(\"{} is most probably a {}.\".format('Archisa',g2))"
   ]
  },
  {
   "cell_type": "code",
   "execution_count": 21,
   "id": "e1aaa5ed",
   "metadata": {},
   "outputs": [
    {
     "name": "stdout",
     "output_type": "stream",
     "text": [
      "\n",
      " Accuracy of the model is : 75.4 %\n",
      "\n"
     ]
    }
   ],
   "source": [
    "# Test the accuracy of the classifier on the test data\n",
    "print(\"\\n Accuracy of the model is :\",nltk.classify.accuracy(classifier, test_set)*100,\"%\\n\")"
   ]
  },
  {
   "cell_type": "code",
   "execution_count": 22,
   "id": "0eeab35b",
   "metadata": {},
   "outputs": [
    {
     "name": "stdout",
     "output_type": "stream",
     "text": [
      "Most Informative Features\n",
      "             last_letter = 'a'            female : male   =     35.4 : 1.0\n",
      "             last_letter = 'k'              male : female =     30.9 : 1.0\n",
      "             last_letter = 'v'              male : female =     18.8 : 1.0\n",
      "             last_letter = 'f'              male : female =     16.7 : 1.0\n",
      "             last_letter = 'p'              male : female =     12.6 : 1.0\n",
      "None\n"
     ]
    }
   ],
   "source": [
    "print(classifier.show_most_informative_features(5))"
   ]
  },
  {
   "cell_type": "code",
   "execution_count": null,
   "id": "d889ad1f",
   "metadata": {},
   "outputs": [],
   "source": []
  }
 ],
 "metadata": {
  "kernelspec": {
   "display_name": "Python 3 (ipykernel)",
   "language": "python",
   "name": "python3"
  },
  "language_info": {
   "codemirror_mode": {
    "name": "ipython",
    "version": 3
   },
   "file_extension": ".py",
   "mimetype": "text/x-python",
   "name": "python",
   "nbconvert_exporter": "python",
   "pygments_lexer": "ipython3",
   "version": "3.9.13"
  }
 },
 "nbformat": 4,
 "nbformat_minor": 5
}
